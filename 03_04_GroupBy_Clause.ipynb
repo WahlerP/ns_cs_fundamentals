{
  "nbformat": 4,
  "nbformat_minor": 0,
  "metadata": {
    "colab": {
      "name": "03-04-GroupBy_Clause.ipynb",
      "provenance": [],
      "authorship_tag": "ABX9TyOA3AEzOaoLxIRc9sFZzVHB",
      "include_colab_link": true
    },
    "kernelspec": {
      "name": "python3",
      "display_name": "Python 3"
    },
    "language_info": {
      "name": "python"
    }
  },
  "cells": [
    {
      "cell_type": "markdown",
      "metadata": {
        "id": "view-in-github",
        "colab_type": "text"
      },
      "source": [
        "<a href=\"https://colab.research.google.com/github/WahlerP/ns_cs_fundamentals/blob/main/03_04_GroupBy_Clause.ipynb\" target=\"_parent\"><img src=\"https://colab.research.google.com/assets/colab-badge.svg\" alt=\"Open In Colab\"/></a>"
      ]
    },
    {
      "cell_type": "markdown",
      "metadata": {
        "id": "909_zrazl3rE"
      },
      "source": [
        "## GROUP BY Clause\n",
        "\n",
        "The GROUP BY clause is an optional clause of the SELECT statement. This clause groups a selected group of rows into summary rows by values of one or more columns.\n",
        "\n",
        "The GROUP BY clause returns one row for each group. For each group, you can apply an aggregate function such as MIN, MAX, SUM, COUNT, or AVG to provide more information about each group. An overview of the aggregate functions can be found [here](https://www.sqlitetutorial.net/sqlite-aggregate-functions/)\n",
        "\n",
        "The following statement illustrates the syntax of the SQLite GROUP BY clause.\n",
        "\n",
        "<br>\n",
        "\n",
        "```\n",
        "SELECT\n",
        "    column_1,\n",
        "    aggregate_function(column_2) \n",
        "FROM \n",
        "    table\n",
        "GROUP BY \n",
        "    column_1,\n",
        "    column_2;\n",
        "```\n",
        "<br>\n",
        "\n",
        "\n",
        "\n",
        "The GROUP BY clause comes after the FROM clause of the SELECT statement. In case a statement contains a WHERE clause, the GROUP BY clause must come after the WHERE clause.\n",
        "\n",
        "Following the GROUP BY clause is a column or a list of comma-separated columns used to specify the group.\n",
        "\n",
        "<br>\n",
        "\n",
        "Let's apply this clause to our STUDENT Table from above.\n",
        "\n",
        "<br>\n",
        "\n",
        "| ROLL_NO | NAME     | AGE | BRANCH    | CITY     \n",
        "| :- | :- | :- | :- | :- | \n",
        "|  10001  | Kate     |  22 | CSE       |  Mumbai  \n",
        "|  10002  | Richard  |  21 | ECE       |  Delhi   \n",
        "|  10003  | Rick     |  33 | ME        |  Chennai \n",
        "|  10004  | Peter    |  26 | CSE       |  Delhi   \n",
        "|  10005  | Peter   |  22 | CSE       |  Noida   \n",
        "|  10006  | Mark     |  22 | ECE       |  Jaipur  \n",
        "|  10007  | Brad     |  23 | ME        |  Rampur\n",
        "\n",
        "<br>\n",
        "Let's say we want to group all students according to the branches and want to count the number of students within branches. The query for this would look as follows:\n",
        "\n",
        "```\n",
        "SELECT \n",
        "  BRANCH, \n",
        "  COUNT(BRANCH) as \"Number of Students in Branch\" \n",
        "FROM \n",
        "  STUDENT \n",
        "GROUP BY \n",
        "  BRANCH;\n",
        "```\n",
        "\n",
        "This results in the following output:\n",
        "\n",
        "|Branch | Number of Students in Branch\n",
        "|:- |:-|\n",
        "|CSE | 3\n",
        "|ECE | 2\n",
        "|ME | 2\n",
        "\n",
        "<br>\n"
      ]
    },
    {
      "cell_type": "code",
      "metadata": {
        "id": "qSIcHdQTlorZ"
      },
      "source": [
        ""
      ],
      "execution_count": null,
      "outputs": []
    }
  ]
}
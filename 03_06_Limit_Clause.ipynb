{
  "nbformat": 4,
  "nbformat_minor": 0,
  "metadata": {
    "colab": {
      "name": "03-06-Limit_Clause.ipynb",
      "provenance": [],
      "authorship_tag": "ABX9TyOHOJo5QDNkhvJE3t7W4zlC",
      "include_colab_link": true
    },
    "kernelspec": {
      "name": "python3",
      "display_name": "Python 3"
    },
    "language_info": {
      "name": "python"
    }
  },
  "cells": [
    {
      "cell_type": "markdown",
      "metadata": {
        "id": "view-in-github",
        "colab_type": "text"
      },
      "source": [
        "<a href=\"https://colab.research.google.com/github/WahlerP/ns_cs_fundamentals/blob/main/03_06_Limit_Clause.ipynb\" target=\"_parent\"><img src=\"https://colab.research.google.com/assets/colab-badge.svg\" alt=\"Open In Colab\"/></a>"
      ]
    },
    {
      "cell_type": "markdown",
      "metadata": {
        "id": "LsPl69jWmQVd"
      },
      "source": [
        "## Limit Clause\n",
        "\n",
        "If we do not want to return every row of a SELECT Query, we can simply limit the number of returned values with the - you guessed it - LIMIT Clause. \n",
        "\n",
        "This is especially useful in large databases, where you do not need to load every single row. \n",
        "\n",
        "The syntax looks as follows:\n",
        "\n",
        "```\n",
        "SELECT\n",
        "\tcolumn_list\n",
        "FROM\n",
        "\ttable\n",
        "ORDER BY \n",
        "  column 1\n",
        "LIMIT \n",
        "  number_of_rows;\n",
        "```\n",
        "Note: the ORDER BY clause is optional. It has to be placed before the LIMIT clause.\n",
        "\n",
        "Let's try to return only the first 3 rows of our STUDENT Table:\n",
        "\n",
        "| ROLL_NO | NAME     | AGE | BRANCH    | CITY     \n",
        "| :- | :- | :- | :- | :- | \n",
        "|  10001  | Kate     |  22 | CSE       |  Mumbai  \n",
        "|  10002  | Richard  |  21 | ECE       |  Delhi   \n",
        "|  10003  | Rick     |  33 | ME        |  Chennai \n",
        "|  10004  | Peter    |  26 | CSE       |  Delhi   \n",
        "|  10005  | Peter   |  22 | CSE       |  Noida   \n",
        "|  10006  | Mark     |  22 | ECE       |  Jaipur  \n",
        "|  10007  | Brad     |  23 | ME        |  Rampur\n",
        "\n",
        "\n",
        "The query\n",
        "\n",
        "```SELECT * FROM STUDENT LIMIT 3;```\n",
        "\n",
        "returns the following table:\n",
        "\n",
        "| ROLL_NO | NAME     | AGE | BRANCH    | CITY     \n",
        "| :- | :- | :- | :- | :- | \n",
        "|  10001  | Kate     |  22 | CSE       |  Mumbai  \n",
        "|  10002  | Richard  |  21 | ECE       |  Delhi   \n",
        "|  10003  | Rick     |  33 | ME        |  Chennai \n",
        "\n",
        "\n",
        "**Offset the Limit**\n",
        "\n",
        "If we want to get the 2 rows starting after the 3rd row, we can use the ```OFFSET``` keyword as follows:\n",
        "\n",
        "```\n",
        "SELECT\n",
        "\tcolumn_list\n",
        "FROM\n",
        "\ttable\n",
        "LIMIT \n",
        "  number_of_rows \n",
        "  OFFSET number_of_offset_rows;\n",
        "```\n",
        "\n",
        "\n",
        "Applied to our example this will look as follows:\n",
        "\n",
        "```\n",
        "SELECT\n",
        "\t*\n",
        "FROM\n",
        "\tSTUDENT\n",
        "LIMIT 2 OFFSET 3;\n",
        "```\n",
        "\n",
        "will result in:\n",
        "\n",
        "| ROLL_NO | NAME     | AGE | BRANCH    | CITY     \n",
        "| :- | :- | :- | :- | :- | \n",
        "|  10004  | Peter    |  26 | CSE       |  Delhi   \n",
        "|  10005  | Peter   |  22 | CSE       |  Noida\n",
        "\n",
        "\n",
        "<br> \n"
      ]
    },
    {
      "cell_type": "code",
      "metadata": {
        "id": "gvkVKLSGmIj_"
      },
      "source": [
        ""
      ],
      "execution_count": null,
      "outputs": []
    }
  ]
}
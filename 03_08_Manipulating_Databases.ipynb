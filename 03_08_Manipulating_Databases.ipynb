{
  "nbformat": 4,
  "nbformat_minor": 0,
  "metadata": {
    "colab": {
      "name": "03-08-Manipulating_Databases.ipynb",
      "provenance": [],
      "collapsed_sections": [],
      "authorship_tag": "ABX9TyPAlk1tGyNQSPW7xsfWHaFQ",
      "include_colab_link": true
    },
    "kernelspec": {
      "name": "python3",
      "display_name": "Python 3"
    },
    "language_info": {
      "name": "python"
    }
  },
  "cells": [
    {
      "cell_type": "markdown",
      "metadata": {
        "id": "view-in-github",
        "colab_type": "text"
      },
      "source": [
        "<a href=\"https://colab.research.google.com/github/WahlerP/ns_cs_fundamentals/blob/main/03_08_Manipulating_Databases.ipynb\" target=\"_parent\"><img src=\"https://colab.research.google.com/assets/colab-badge.svg\" alt=\"Open In Colab\"/></a>"
      ]
    },
    {
      "cell_type": "markdown",
      "metadata": {
        "id": "bn-hnSgH_V15"
      },
      "source": [
        "< [Previous Page](https://colab.research.google.com/github/WahlerP/ns_cs_fundamentals/blob/main/03_07_Merging_Databases.ipynb#scrollTo=V_ny95h5B0VX) | [Home Page](https://wahlerp.github.io/) | [Next Page](https://colab.research.google.com/github/WahlerP/ns_cs_fundamentals/blob/main/03_09_SQL_in_Python.ipynb) >\n",
        "\n",
        "<a href=\"https://colab.research.google.com/github/WahlerP/ns_cs_fundamentals/blob/main/03_08_Manipulating_Databases.ipynb#scrollTo=bn-hnSgH_V15\"><img align=\"left\" src=\"https://colab.research.google.com/assets/colab-badge.svg\" alt=\"Open in Colab\" title=\"Open and Execute in Google Colaboratory\"></a>"
      ]
    },
    {
      "cell_type": "markdown",
      "metadata": {
        "id": "T53IldRuLHb_"
      },
      "source": [
        "## Manipulating Databases: INSERT INTO and UPDATE\n",
        "\n",
        "So far we have only queried existing information. Sometimes it might be necessary, however, to change the information within a table. This can be done via the INSERT and UPDATE Statements.\n",
        "\n",
        "- The INSERT Statement is used to insert new data into an existing table\n",
        "- The UPDATE Statement is used to change existing data in an existing table\n"
      ]
    },
    {
      "cell_type": "markdown",
      "metadata": {
        "id": "Gh5R2blML4yT"
      },
      "source": [
        "## INSERT INTO Statement\n",
        "\n",
        "To insert data into a table, you use the INSERT statement. SQLite provides various forms of the INSERT statements that allow you to insert a single row, multiple rows, and default values into a table. The last option will be ignored in this course.\n",
        "\n",
        "\n",
        "\n",
        "**Inserting a single row into a table**\n",
        "\n",
        "To insert a single row into a table, you use the following form of the INSERT statement:\n",
        "\n",
        "```\n",
        "INSERT INTO table (column1,column2 ,..)\n",
        "VALUES( value1,\tvalue2 ,...);\n",
        "```\n",
        "\n",
        "\n",
        "\n",
        "\n",
        "First, specify the name of the table to which you want to insert data after the INSERT INTO keywords.\n",
        "Second, add a comma-separated list of columns after the table name. The column list is optional. However, it is a good practice to include the column list after the table name.\n",
        "Third, add a comma-separated list of values after the VALUES keyword. If you omit the column list, you have to specify values for all columns in the value list. The number of values in the value list must be the same as the number of columns in the column list.\n",
        "\n",
        "<br>\n",
        "\n",
        "We will use the STUDENT table from before as an example.\n",
        "\n",
        "| ROLL_NO | NAME     | AGE | BRANCH    | CITY     \n",
        "| :- | :- | :- | :- | :- | \n",
        "|  10001  | Kate     |  22 | CSE       |  Mumbai  \n",
        "|  10002  | Richard  |  21 | ECE       |  Delhi   \n",
        "|  10003  | Rick     |  33 | ME        |  Chennai \n",
        "|  10004  | Peter    |  26 | CSE       |  Delhi   \n",
        "|  10005  | Peter   |  22 | CSE       |  Noida   \n",
        "|  10006  | Mark     |  22 | ECE       |  Jaipur  \n",
        "|  10007  | Brad     |  23 | ME        |  Rampur\n",
        "\n",
        "\n",
        "Let's insert a new student in our table with the following statement:\n",
        "\n",
        "\n",
        "```\n",
        "INSERT INTO STUDENT (NAME, AGE, BRANCH, CITY)\n",
        "VALUES ('Bob', 21, 'CSE', 'Mumbai');\n",
        "```\n",
        "This will result in the following table:\n",
        "\n",
        "| ROLL_NO | NAME     | AGE | BRANCH    | CITY     \n",
        "| :- | :- | :- | :- | :- | \n",
        "|  10001  | Kate     |  22 | CSE       |  Mumbai  \n",
        "|  10002  | Richard  |  21 | ECE       |  Delhi   \n",
        "|  10003  | Rick     |  33 | ME        |  Chennai \n",
        "|  10004  | Peter    |  26 | CSE       |  Delhi   \n",
        "|  10005  | Peter   |  22 | CSE       |  Noida   \n",
        "|  10006  | Mark     |  22 | ECE       |  Jaipur  \n",
        "|  10007  | Brad     |  23 | ME        |  Rampur\n",
        "|  10008  | Bob     |  21 |CSE        |  Mumbai\n",
        "\n",
        "\n",
        "Because the ROLL_NO column is an auto-increment column (it's the primary key), you can ignore it in the INSERT INTO statement. SQLite automatically geneate a sequential integer number to insert into this column.\n",
        "\n",
        "<br>\n",
        "\n",
        "**Inserting multiple rows into a table**\n",
        "\n",
        "To insert multiple rows into a table, you use the following form of the INSERT statement:\n",
        "\n",
        "```\n",
        "INSERT INTO table1 (column1,column2 ,..)\n",
        "VALUES \n",
        "   (value1,value2 ,...),\n",
        "   (value1,value2 ,...),\n",
        "    ...\n",
        "   (value1,value2 ,...);\n",
        "```\n",
        "\n",
        "Each value list following the VALUES clause is a row that will be inserted into the table.\n",
        "\n",
        "<br>\n",
        "\n",
        "\n"
      ]
    },
    {
      "cell_type": "markdown",
      "metadata": {
        "id": "5WU5q2Q2QOp5"
      },
      "source": [
        "## UPDATE Statement\n",
        "\n",
        "To update existing data in a table, you use the SQLite UPDATE statement. The following illustrates the syntax of the UPDATE statement:\n",
        "\n",
        "```\n",
        "UPDATE table_name\n",
        "SET column1 = value1, column2 = value2, ...\n",
        "WHERE condition;\n",
        "```\n",
        "\n",
        "First, specify the table you want to update after the UPDATE clause.\n",
        "Second, set new value for each column of the table in the SET clause.\n",
        "Third, specify rows to update using a condition in the WHERE clause. The WHERE clause is optional. If you skip it, the UPDATE statement will update data in all rows of the table.\n",
        "\n",
        "***Updating one column**\n",
        "\n",
        "We will use the STUDENT table from above to demonstrate the UPDATE statement.\n",
        "\n",
        "Suppose, Brad changes departments from ME to CSE In this case, you can update Brad's department  using the following statement:\n",
        "\n",
        "```\n",
        "UPDATE STUDENT\n",
        "SET BRANCH = 'CSE'\n",
        "WHERE ROLL_NO = 10007;\n",
        "```\n",
        "As expected, this will result in:\n",
        "\n",
        "<br>\n",
        "\n",
        "| ROLL_NO | NAME     | AGE | BRANCH    | CITY     \n",
        "| :- | :- | :- | :- | :- | \n",
        "|  10001  | Kate     |  22 | CSE       |  Mumbai  \n",
        "|  10002  | Richard  |  21 | ECE       |  Delhi   \n",
        "|  10003  | Rick     |  33 | ME        |  Chennai \n",
        "|  10004  | Peter    |  26 | CSE       |  Delhi   \n",
        "|  10005  | Peter   |  22 | CSE       |  Noida   \n",
        "|  10006  | Mark     |  22 | ECE       |  Jaipur  \n",
        "|  10007  | Brad     |  23 | CSE        |  Rampur\n",
        "\n",
        "\n",
        "<br>\n",
        "\n",
        "**Update multiple columns**\n",
        "\n",
        "Suppose Rick moves to Delhi AND changes his department to ECE.You can use the UPDATE statement to update multiple columns as follows:\n",
        "\n",
        "```\n",
        "UPDATE STUDENT\n",
        "SET CITY = 'Delhi',\n",
        "    BRANCH = 'ECE',\n",
        "WHERE\n",
        "    ROLL_NO = 10003;\n",
        "```"
      ]
    },
    {
      "cell_type": "markdown",
      "metadata": {
        "id": "TMEZwYhyS3bI"
      },
      "source": [
        "## DELETE Statement\n",
        "\n",
        "You have learned how to insert a new row into a table and update existing data of a table. Sometimes, you need to remove rows from a table. In this case, you use the SQLite DELETE statement.\n",
        "\n",
        "The SQLite DELETE statement allows you to delete one row, multiple rows, and all rows in a table. The syntax of the SQLite DELETE statement is as follows:\n",
        "\n",
        "```\n",
        "DELETE FROM table\n",
        "WHERE Condition;\n",
        "```\n",
        "\n",
        "\n",
        "First, specify the name of the table which you want to remove rows after the DELETE FROM keywords.\n",
        "Second, add a search condition in the WHERE clause to identify the rows to remove. The WHERE clause is an optional part of the DELETE statement. If you omit the WHERE clause, the DELETE statement will delete all rows in the table.\n",
        "\n",
        "Let's look one more time at our STUDENT example:\n",
        "\n",
        "| ROLL_NO | NAME     | AGE | BRANCH    | CITY     \n",
        "| :- | :- | :- | :- | :- | \n",
        "|  10001  | Kate     |  22 | CSE       |  Mumbai  \n",
        "|  10002  | Richard  |  21 | ECE       |  Delhi   \n",
        "|  10003  | Rick     |  33 | ME        |  Chennai \n",
        "|  10004  | Peter    |  26 | CSE       |  Delhi   \n",
        "|  10005  | Peter   |  22 | CSE       |  Noida   \n",
        "|  10006  | Mark     |  22 | ECE       |  Jaipur  \n",
        "|  10007  | Brad     |  23 | ME        |  Rampur\n",
        "\n",
        "Let's imagine that the school runs out of money and has to close its CSE Branch. This means that all students from that branch need to be deleted from our database. This can be done as follows:\n",
        "\n",
        "```\n",
        "DELETE FROM STUDENT\n",
        "WHERE BRANCH = 'CSE';\n",
        "```\n",
        "\n",
        "which results in the following table:\n",
        "\n",
        "| ROLL_NO | NAME     | AGE | BRANCH    | CITY     \n",
        "| :- | :- | :- | :- | :- | \n",
        "|  10002  | Richard  |  21 | ECE       |  Delhi   \n",
        "|  10003  | Rick     |  33 | ME        |  Chennai   \n",
        "|  10006  | Mark     |  22 | ECE       |  Jaipur  \n",
        "|  10007  | Brad     |  23 | ME        |  Rampur\n"
      ]
    },
    {
      "cell_type": "markdown",
      "metadata": {
        "id": "vedk2ZNF_emo"
      },
      "source": [
        "< [Previous Page](https://colab.research.google.com/github/WahlerP/ns_cs_fundamentals/blob/main/03_07_Merging_Databases.ipynb#scrollTo=V_ny95h5B0VX) | [Home Page](https://wahlerp.github.io/) | [Next Page](https://colab.research.google.com/github/WahlerP/ns_cs_fundamentals/blob/main/03_09_SQL_in_Python.ipynb) >\n",
        "\n",
        "<a href=\"https://colab.research.google.com/github/WahlerP/ns_cs_fundamentals/blob/main/03_08_Manipulating_Databases.ipynb#scrollTo=bn-hnSgH_V15\"><img align=\"left\" src=\"https://colab.research.google.com/assets/colab-badge.svg\" alt=\"Open in Colab\" title=\"Open and Execute in Google Colaboratory\"></a>"
      ]
    },
    {
      "cell_type": "code",
      "metadata": {
        "id": "1yb1MdoWmmqv"
      },
      "source": [
        ""
      ],
      "execution_count": null,
      "outputs": []
    }
  ]
}
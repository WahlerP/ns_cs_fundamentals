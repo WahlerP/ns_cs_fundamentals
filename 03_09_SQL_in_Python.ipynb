{
  "nbformat": 4,
  "nbformat_minor": 0,
  "metadata": {
    "colab": {
      "name": "03-09_SQL_in_Python.ipynb",
      "provenance": [],
      "collapsed_sections": [],
      "authorship_tag": "ABX9TyM+rqdKoagURolUq2ks0HEb",
      "include_colab_link": true
    },
    "kernelspec": {
      "name": "python3",
      "display_name": "Python 3"
    },
    "language_info": {
      "name": "python"
    }
  },
  "cells": [
    {
      "cell_type": "markdown",
      "metadata": {
        "id": "view-in-github",
        "colab_type": "text"
      },
      "source": [
        "<a href=\"https://colab.research.google.com/github/WahlerP/ns_cs_fundamentals/blob/main/03_09_SQL_in_Python.ipynb\" target=\"_parent\"><img src=\"https://colab.research.google.com/assets/colab-badge.svg\" alt=\"Open In Colab\"/></a>"
      ]
    },
    {
      "cell_type": "markdown",
      "metadata": {
        "id": "vXKzqIu-WKmh"
      },
      "source": [
        "# Using SQL in Python"
      ]
    },
    {
      "cell_type": "markdown",
      "metadata": {
        "id": "DDgx9J4HWOqd"
      },
      "source": [
        "After we have explored the most important pieces of SQL Syntax in the previous chapters, we'll now have a look at how we can use pyhton to work with SQL (specifically SQLite) databases. \n",
        "\n",
        "Luckily, this is rather easy once we have understood the underlying SQL syntax. \n",
        "\n",
        "In a first step, we need to install two libraries: sqlite3 and pandas. The first one helps us with connecting to and manipluating databases whereas pandas makes reading from a database very easy."
      ]
    },
    {
      "cell_type": "code",
      "metadata": {
        "id": "v7ENDv9HbZiX"
      },
      "source": [
        "import sqlite3\n",
        "import pandas as pd # it is convention to install pandas as pd"
      ],
      "execution_count": null,
      "outputs": []
    },
    {
      "cell_type": "markdown",
      "metadata": {
        "id": "Z9HROLRBZi7-"
      },
      "source": [
        "## Loading a SQL Database in Python\n",
        "\n",
        "Once we have imported the libraries above, we can connect our Python kernel to an existing database. This is done with the following command:\n",
        "\n",
        "``` DB = sqlite3.connect('<our database>')```\n",
        "\n",
        "The sqlite3 module provides a straightforward interface for interacting with SQLite databases. A connection object is created using sqlite3.connect(). Once our session has ended, we must close the connection as follows:\n",
        "\n",
        "\n",
        "``` DB.close()```\n",
        "\n",
        "While it is possible to directly read from the database using the sqlite3 library, using pandas is way easier.\n"
      ]
    },
    {
      "cell_type": "markdown",
      "metadata": {
        "id": "iZ1-la9HZnj2"
      },
      "source": [
        "## Fetching Information via pd.read_sql\n",
        "\n",
        "As stated above, it is preferable to use the pandas library, when trying to read data from an existing database. This is because pandas directly transforms the received information in a so called DataFrame (which will be discussed in the Data Science chapters). Habdlibg a DataFrame is much easier than reading the tuples or lists that are returned by the sqlite3 library.\n",
        "\n",
        "To read a database we will use the `pd.read_sql()` function, which consists of the following syntax. \n",
        "\n",
        "<br>\n",
        "\n",
        "**`pandas.read_sql(sql, DB, index_col=None)`**\n",
        "\n",
        "where \n",
        "\n",
        "- sql contains a string of the applicable SQL syntax (by convention we do triple strings (\"\"\"))\n",
        "- DB specifies our Database object from above\n",
        "- index_col specifies the column name (as a string), which will be used as the index for the returned DataFrame object. If index_col is not passed, index values starting from 0 appear to the left of the DataFrame’s rows.\n",
        "\n",
        "As stated before, this function returns a DataFrame object."
      ]
    },
    {
      "cell_type": "markdown",
      "metadata": {
        "id": "6x0Y_Gvle0xt"
      },
      "source": [
        "Let's consider our STUDENT example from before.\n",
        "\n",
        "<br>\n",
        "\n",
        "\n",
        "| ROLL_NO | NAME     | AGE | BRANCH    | CITY     \n",
        "| :- | :- | :- | :- | :- | \n",
        "|  10001  | Kate     |  22 | CSE       |  Mumbai  \n",
        "|  10002  | Richard  |  21 | ECE       |  Delhi   \n",
        "|  10003  | Rick     |  33 | ME        |  Chennai \n",
        "|  10004  | Peter    |  26 | CSE       |  Delhi   \n",
        "|  10005  | Peter   |  22 | CSE       |  Noida   \n",
        "|  10006  | Mark     |  22 | ECE       |  Jaipur  \n",
        "|  10007  | Brad     |  23 | ME        |  Rampur  \n",
        "\n",
        "\n",
        "Let's say we wanted to\n",
        "1. Open the database in python\n",
        "2. Fetch the first four columns (we do not care about the city in this case) of students that are in the CSE branch, ordered according to their age.\n",
        "3. Return the fetched information as a pandas DataFrame and print it\n",
        "\n",
        "This would look as follows:\n",
        "\n",
        "```\n",
        "import sqlite3\n",
        "import pandas as pd\n",
        "\n",
        "DB = sqlite3.connect(STUDENT.db)\n",
        "\n",
        "DataFrame = pd.read_sql(\"\"\"\n",
        "                          SELECT ROLL_NO, NAME, AGE, BRANCH\n",
        "                          FROM \n",
        "                            STUDENT\n",
        "                          WHERE\n",
        "                            BRANCH = 'CSE'\n",
        "                          ORDER BY\n",
        "                            AGE ASC;\n",
        "                            \"\"\", \n",
        "                            DB,\n",
        "                            index_col = ['ROLL_NO'])\n",
        "\n",
        "\n",
        "\n",
        "print(DataFrame)\n",
        "\n",
        "DB.close()\n",
        "```\n"
      ]
    },
    {
      "cell_type": "markdown",
      "metadata": {
        "id": "F67IczTVZuUr"
      },
      "source": [
        "## Writing to a database via sqlite3"
      ]
    },
    {
      "cell_type": "markdown",
      "metadata": {
        "id": "bstF9GHdiuqF"
      },
      "source": [
        "To manipulate an existing Database, pandas is, unfortunately, of little use. In such a case, we have to do the following:\n",
        "\n",
        "First we connect the database to Python as explained above.\n",
        "\n",
        "\n",
        "\n",
        "```\n",
        "DB = sqlite3.connect('<our database>')\n",
        "```\n",
        "\n",
        "Once this is done, we open a so-called cursor object. A cursor can be understood as an iterable (a tuple or a list) that shows theresults from Database queries. \n",
        "\n",
        "```cursor = DB.cursor()```\n",
        "\n",
        "\n",
        "Using the `.execute()` method of the newly created cursor object, we are then able to directly pass SQL syntax to our Database. \n",
        "\n",
        "```\n",
        "cursor = cursor.execute(\"\"\"UPDATE STUDENT SET Name='Brad'\n",
        "                            WHERE NAME='Kate'\"\"\")\n",
        "\n",
        "# we rename Kate to Brad\n",
        "```\n",
        "\n",
        "So far so good. If we want to print out the updated DataBase, we must consider that the cursor object, is an iterable. A ```print(cursor)```would therefore merely result in an ugly string. This can be solved by printing out the individual rows of our Database.\n",
        "\n",
        "``` \n",
        "for row in cursor:\n",
        "  print(row)\n",
        "```\n",
        "\n",
        "Lastly, we need to close our Database - and thus save the changes to it.\n",
        "\n",
        "```\n",
        "DB.close()\n",
        "```\n",
        "\n",
        "The full documentation of sqlite3`s cursor object, can be found [here](https://docs.python.org/3/library/sqlite3.html#cursor-objects) (not relevant for the exam)"
      ]
    }
  ]
}
{
  "nbformat": 4,
  "nbformat_minor": 0,
  "metadata": {
    "colab": {
      "name": "04-01-Introduction_to_Numpy.ipynb",
      "provenance": [],
      "authorship_tag": "ABX9TyPV4iKaUo31UwjnW4SKSAeW",
      "include_colab_link": true
    },
    "kernelspec": {
      "name": "python3",
      "display_name": "Python 3"
    },
    "language_info": {
      "name": "python"
    }
  },
  "cells": [
    {
      "cell_type": "markdown",
      "metadata": {
        "id": "view-in-github",
        "colab_type": "text"
      },
      "source": [
        "<a href=\"https://colab.research.google.com/github/WahlerP/ns_cs_fundamentals/blob/main/04_01_Introduction_to_Numpy.ipynb\" target=\"_parent\"><img src=\"https://colab.research.google.com/assets/colab-badge.svg\" alt=\"Open In Colab\"/></a>"
      ]
    },
    {
      "cell_type": "markdown",
      "metadata": {
        "id": "qnlBakGgAgnx"
      },
      "source": [
        "< [Previous Page](https://colab.research.google.com/github/WahlerP/ns_cs_fundamentals/blob/main/03_09_SQL_in_Python.ipynb#scrollTo=bstF9GHdiuqF) | [Home Page](https://wahlerp.github.io/) | [Next Page](https://colab.research.google.com/github/WahlerP/ns_cs_fundamentals/blob/main/04_02_Understanding_Arrays.ipynb) >\n",
        "\n",
        "<a href=\"https://colab.research.google.com/github/WahlerP/ns_cs_fundamentals/blob/main/04_01_Introduction_to_Numpy.ipynb#scrollTo=qnlBakGgAgnx\"><img align=\"left\" src=\"https://colab.research.google.com/assets/colab-badge.svg\" alt=\"Open in Colab\" title=\"Open and Execute in Google Colaboratory\"></a>"
      ]
    },
    {
      "cell_type": "markdown",
      "metadata": {
        "deletable": true,
        "editable": true,
        "id": "J1bw1aWNh9pt"
      },
      "source": [
        "# Introduction to NumPy"
      ]
    },
    {
      "cell_type": "markdown",
      "metadata": {
        "deletable": true,
        "editable": true,
        "id": "fy6SXdQyh9pt"
      },
      "source": [
        "This chapter, along with the next one, outlines techniques for effectively loading, storing, and manipulating in-memory data in Python.\n",
        "The topic is very broad: datasets can come from a wide range of sources and a wide range of formats, including be collections of documents, collections of images, collections of sound clips, collections of numerical measurements, or nearly anything else.\n",
        "Despite this apparent heterogeneity, it will help us to think of all data fundamentally as arrays of numbers.\n",
        "\n",
        "For example, images–particularly digital images–can be thought of as simply two-dimensional arrays of numbers representing pixel brightness across the area.\n",
        "Sound clips can be thought of as one-dimensional arrays of intensity versus time.\n",
        "Text can be converted in various ways into numerical representations, perhaps binary digits representing the frequency of certain words or pairs of words.\n",
        "No matter what the data are, the first step in making it analyzable will be to transform them into arrays of numbers.\n",
        "\n",
        "For this reason, efficient storage and manipulation of numerical arrays is absolutely fundamental to the process of doing data science.\n",
        "We'll now take a look at the specialized tools that Python has for handling such numerical arrays: the NumPy package, and the Pandas package (discussed in the next Chapter).\n",
        "\n",
        "This chapter will cover NumPy in detail. NumPy (short for *Numerical Python*) provides an efficient interface to store and operate on dense data buffers.\n",
        "In some ways, NumPy arrays are like Python's built-in ``list`` type, but NumPy arrays provide much more efficient storage and data operations as the arrays grow larger in size.\n",
        "NumPy arrays form the core of nearly the entire ecosystem of data science tools in Python, so time spent learning to use NumPy effectively will be valuable no matter what aspect of data science interests you.\n",
        "\n",
        "If you followed the advice outlined in the Preface and installed the Anaconda stack, you already have NumPy installed and ready to go.\n",
        "If you're more the do-it-yourself type, you can go to http://www.numpy.org/ and follow the installation instructions found there.\n",
        "Once you do, you can import NumPy and double-check the version:"
      ]
    },
    {
      "cell_type": "code",
      "metadata": {
        "deletable": true,
        "editable": true,
        "id": "jLXA73k8h9pu",
        "outputId": "f9549f14-432c-497d-f1b2-ea6d86378ecf"
      },
      "source": [
        "import numpy\n",
        "numpy.__version__"
      ],
      "execution_count": null,
      "outputs": [
        {
          "output_type": "execute_result",
          "data": {
            "text/plain": [
              "'1.11.1'"
            ]
          },
          "metadata": {
            "tags": []
          },
          "execution_count": 1
        }
      ]
    },
    {
      "cell_type": "markdown",
      "metadata": {
        "deletable": true,
        "editable": true,
        "id": "JGAqdxBuh9pv"
      },
      "source": [
        "By convention, you'll find that most people in the SciPy/PyData world will import NumPy using ``np`` as an alias:"
      ]
    },
    {
      "cell_type": "code",
      "metadata": {
        "deletable": true,
        "editable": true,
        "id": "YOKipzsBh9pw"
      },
      "source": [
        "import numpy as np"
      ],
      "execution_count": null,
      "outputs": []
    },
    {
      "cell_type": "markdown",
      "metadata": {
        "deletable": true,
        "editable": true,
        "id": "3e9VPkPLh9pw"
      },
      "source": [
        "Throughout this chapter, and indeed the rest of the course, you'll find that this is the way we will import and use NumPy."
      ]
    },
    {
      "cell_type": "markdown",
      "metadata": {
        "deletable": true,
        "editable": true,
        "id": "Ftq88k1Kh9pw"
      },
      "source": [
        "## Reminder about Built In Documentation\n",
        "\n",
        "As you read through this chapter, be aware that jupyter notebooks gives you the \n",
        "\n",
        "ability to quickly explore the contents of a package (by using the tab-completion feature), as well as the documentation of various functions (using the ``?`` character.\n",
        "\n",
        "For example, to display all the contents of the numpy namespace, you can type this:\n",
        "\n",
        "```ipython\n",
        "In [3]: np.<TAB>\n",
        "```\n",
        "\n",
        "And to display NumPy's built-in documentation, you can use this:\n",
        "\n",
        "```ipython\n",
        "In [4]: np?\n",
        "```\n",
        "\n",
        "More detailed documentation, along with tutorials and other resources, can be found at http://www.numpy.org."
      ]
    },
    {
      "cell_type": "code",
      "metadata": {
        "id": "U89C9z3qlvay"
      },
      "source": [
        "np?"
      ],
      "execution_count": null,
      "outputs": []
    },
    {
      "cell_type": "markdown",
      "metadata": {
        "id": "ru4qOBmRAq8o"
      },
      "source": [
        "< [Previous Page](https://colab.research.google.com/github/WahlerP/ns_cs_fundamentals/blob/main/03_09_SQL_in_Python.ipynb#scrollTo=bstF9GHdiuqF) | [Home Page](https://wahlerp.github.io/) | [Next Page](https://colab.research.google.com/github/WahlerP/ns_cs_fundamentals/blob/main/04_02_Understanding_Arrays.ipynb) >\n",
        "\n",
        "<a href=\"https://colab.research.google.com/github/WahlerP/ns_cs_fundamentals/blob/main/04_01_Introduction_to_Numpy.ipynb#scrollTo=qnlBakGgAgnx\"><img align=\"left\" src=\"https://colab.research.google.com/assets/colab-badge.svg\" alt=\"Open in Colab\" title=\"Open and Execute in Google Colaboratory\"></a>"
      ]
    }
  ]
}
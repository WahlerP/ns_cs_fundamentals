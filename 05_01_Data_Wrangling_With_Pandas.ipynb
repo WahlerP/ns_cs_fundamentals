{
  "nbformat": 4,
  "nbformat_minor": 0,
  "metadata": {
    "colab": {
      "name": "05-01-Data_Wrangling_With_Pandas.ipynb",
      "provenance": [],
      "collapsed_sections": [],
      "authorship_tag": "ABX9TyNz4/GtnrWcQFJLEeoor54K",
      "include_colab_link": true
    },
    "kernelspec": {
      "name": "python3",
      "display_name": "Python 3"
    },
    "language_info": {
      "name": "python"
    }
  },
  "cells": [
    {
      "cell_type": "markdown",
      "metadata": {
        "id": "view-in-github",
        "colab_type": "text"
      },
      "source": [
        "<a href=\"https://colab.research.google.com/github/WahlerP/ns_cs_fundamentals/blob/main/05_01_Data_Wrangling_With_Pandas.ipynb\" target=\"_parent\"><img src=\"https://colab.research.google.com/assets/colab-badge.svg\" alt=\"Open In Colab\"/></a>"
      ]
    },
    {
      "cell_type": "markdown",
      "metadata": {
        "id": "yr8lXiUvBu97"
      },
      "source": [
        "< [Previous Page](https://colab.research.google.com/github/WahlerP/ns_cs_fundamentals/blob/main/04_06_Sorting_Arrays.ipynb#scrollTo=Zido7zY-iFgu) | [Home Page](https://wahlerp.github.io/) | [Next Page](https://colab.research.google.com/github/WahlerP/ns_cs_fundamentals/blob/main/05_02_Introduction_to_Series_and_DataFrames.ipynb) >\n",
        "\n",
        "<a href=\"https://colab.research.google.com/github/WahlerP/ns_cs_fundamentals/blob/main/05_01_Data_Wrangling_With_Pandas.ipynb#scrollTo=yr8lXiUvBu97\"><img align=\"left\" src=\"https://colab.research.google.com/assets/colab-badge.svg\" alt=\"Open in Colab\" title=\"Open and Execute in Google Colaboratory\"></a>"
      ]
    },
    {
      "cell_type": "markdown",
      "metadata": {
        "id": "pKG86aC_rA8L"
      },
      "source": [
        "# Data Wrangling with Pandas"
      ]
    },
    {
      "cell_type": "markdown",
      "metadata": {
        "id": "Fi-r1mvrtyUR"
      },
      "source": [
        "In the previous chapter, we dove into detail on NumPy and its ``ndarray`` object, which provides efficient storage and manipulation of dense typed arrays in Python.\n",
        "Here we'll build on this knowledge by looking in detail at the data structures provided by the Pandas library.\n",
        "Pandas is a newer package built on top of NumPy, and provides an efficient implementation of a ``DataFrame``.\n",
        "``DataFrame``s are essentially multidimensional arrays with attached row and column labels, and often with heterogeneous types and/or missing data.\n",
        "As well as offering a convenient storage interface for labeled data, Pandas implements a number of powerful data operations familiar to users of both database frameworks and spreadsheet programs.\n",
        "\n",
        "\n"
      ]
    },
    {
      "cell_type": "markdown",
      "metadata": {
        "id": "6NNHa0BotyUS"
      },
      "source": [
        "## Installing and Using Pandas\n",
        "\n",
        "Installation of Pandas on your system requires NumPy to be installed.\n",
        "Details on this installation can be found in the [Pandas documentation](http://pandas.pydata.org/). Both can be installed via the `pip`command. \n",
        "\n",
        "Once Pandas is installed, you can import it and check the version:"
      ]
    },
    {
      "cell_type": "code",
      "metadata": {
        "colab": {
          "base_uri": "https://localhost:8080/",
          "height": 35
        },
        "id": "YTEHsZoUtyUS",
        "outputId": "cb58fe27-5173-4938-8755-7009be8665e9"
      },
      "source": [
        "import pandas\n",
        "pandas.__version__"
      ],
      "execution_count": null,
      "outputs": [
        {
          "output_type": "execute_result",
          "data": {
            "application/vnd.google.colaboratory.intrinsic+json": {
              "type": "string"
            },
            "text/plain": [
              "'1.1.5'"
            ]
          },
          "metadata": {
            "tags": []
          },
          "execution_count": 2
        }
      ]
    },
    {
      "cell_type": "markdown",
      "metadata": {
        "id": "FckgtISktyUT"
      },
      "source": [
        "Just as we generally import NumPy under the alias ``np``, we will import Pandas under the alias ``pd``:"
      ]
    },
    {
      "cell_type": "code",
      "metadata": {
        "collapsed": true,
        "id": "TTpo4j3ytyUT"
      },
      "source": [
        "import pandas as pd"
      ],
      "execution_count": null,
      "outputs": []
    },
    {
      "cell_type": "markdown",
      "metadata": {
        "id": "sDDD62lgtyUT"
      },
      "source": [
        "This import convention will be used throughout the remainder of this course."
      ]
    },
    {
      "cell_type": "markdown",
      "metadata": {
        "id": "DCAZCHoCtyUT"
      },
      "source": [
        "## Reminder about Built-In Documentation\n",
        "\n",
        "As you read through this chapter, don't forget that IPython gives you the ability to quickly explore the contents of a package (by using the tab-completion feature) as well as the documentation of various functions (using the ``?`` character). \n",
        "\n",
        "For example, to display all the contents of the pandas namespace, you can type\n",
        "\n",
        "```ipython\n",
        "In [3]: pd.<TAB>\n",
        "```\n",
        "\n",
        "And to display Pandas's built-in documentation, you can use this:\n",
        "\n",
        "\n"
      ]
    },
    {
      "cell_type": "code",
      "metadata": {
        "id": "kzBhCe75u-Oj"
      },
      "source": [
        "pd?"
      ],
      "execution_count": null,
      "outputs": []
    },
    {
      "cell_type": "markdown",
      "metadata": {
        "id": "CXJVxl-zvFkL"
      },
      "source": [
        "More detailed documentation, along with tutorials and other resources, can be found at http://pandas.pydata.org/."
      ]
    },
    {
      "cell_type": "markdown",
      "metadata": {
        "id": "855CYlaNB2ZY"
      },
      "source": [
        "< [Previous Page](https://colab.research.google.com/github/WahlerP/ns_cs_fundamentals/blob/main/04_06_Sorting_Arrays.ipynb#scrollTo=Zido7zY-iFgu) | [Home Page](https://wahlerp.github.io/) | [Next Page](https://colab.research.google.com/github/WahlerP/ns_cs_fundamentals/blob/main/05_02_Introduction_to_Series_and_DataFrames.ipynb) >\n",
        "\n",
        "<a href=\"https://colab.research.google.com/github/WahlerP/ns_cs_fundamentals/blob/main/05_01_Data_Wrangling_With_Pandas.ipynb#scrollTo=yr8lXiUvBu97\"><img align=\"left\" src=\"https://colab.research.google.com/assets/colab-badge.svg\" alt=\"Open in Colab\" title=\"Open and Execute in Google Colaboratory\"></a>"
      ]
    }
  ]
}
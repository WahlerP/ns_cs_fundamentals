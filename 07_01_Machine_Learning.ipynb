{
  "nbformat": 4,
  "nbformat_minor": 0,
  "metadata": {
    "colab": {
      "name": "07-01-Machine-Learning.ipynb",
      "provenance": [],
      "authorship_tag": "ABX9TyNeV7bX1CYXbt+lzed6FojA",
      "include_colab_link": true
    },
    "kernelspec": {
      "name": "python3",
      "display_name": "Python 3"
    },
    "language_info": {
      "name": "python"
    }
  },
  "cells": [
    {
      "cell_type": "markdown",
      "metadata": {
        "id": "view-in-github",
        "colab_type": "text"
      },
      "source": [
        "<a href=\"https://colab.research.google.com/github/WahlerP/ns_cs_fundamentals/blob/main/07_01_Machine_Learning.ipynb\" target=\"_parent\"><img src=\"https://colab.research.google.com/assets/colab-badge.svg\" alt=\"Open In Colab\"/></a>"
      ]
    },
    {
      "cell_type": "markdown",
      "metadata": {
        "id": "v9B8-OyzYbSq"
      },
      "source": [
        "# What Is Machine Learning?"
      ]
    },
    {
      "cell_type": "markdown",
      "metadata": {
        "deletable": true,
        "editable": true,
        "id": "ETSn7AHtYbSq"
      },
      "source": [
        "Before we take a look at the details of various machine learning methods, let's start by looking at what machine learning is.\n",
        "\n",
        "Fundamentally, machine learning involves building mathematical models to help understand data.\n",
        "\"Learning\" enters the fray when we give these models *tunable parameters* that can be adapted to observed data; in this way the program can be considered to be \"learning\" from the data.\n",
        "Once these models have been fit to previously seen data, they can be used to predict and understand aspects of newly observed data. \n",
        "\n"
      ]
    },
    {
      "cell_type": "markdown",
      "metadata": {
        "deletable": true,
        "editable": true,
        "id": "bl3BNh5cYbSs"
      },
      "source": [
        "## Categories of Machine Learning\n",
        "\n",
        "At the most fundamental level, machine learning can be categorized into two main types: supervised learning and unsupervised learning.\n",
        "\n",
        "*Supervised learning* involves somehow modeling the relationship between measured features of data and some label associated with the data; once this model is determined, it can be used to apply labels to new, unknown data.\n",
        "This is further subdivided into *classification* tasks and *regression* tasks: in classification, the labels are discrete categories, while in regression, the labels are continuous quantities.\n",
        ".\n",
        "\n",
        "*Unsupervised learning* involves modeling the features of a dataset without reference to any label, and is often described as \"letting the dataset speak for itself.\"\n",
        "These models include tasks such as *clustering* and *dimensionality reduction.*\n",
        "Clustering algorithms identify distinct groups of data, while dimensionality reduction algorithms search for more succinct representations of the data.\n",
        "\n",
        "\n",
        "In addition, there are so-called *semi-supervised learning* methods, which falls somewhere between supervised learning and unsupervised learning.\n",
        "Semi-supervised learning methods are often useful when only incomplete labels are available.\n",
        "\n",
        "\n",
        "To summarize:\n",
        "\n",
        "- *Supervised learning*: Models that can predict labels based on labeled training data\n",
        "\n",
        "  - *Classification*: Models that predict labels as two or more discrete categories (e.g. whether a picture shows a dog or a cat)\n",
        "  - *Regression*: Models that predict continuous labels\n",
        "  \n",
        "- *Unsupervised learning*: Models that identify structure in unlabeled data\n",
        "\n",
        "  - *Clustering*: Models that detect and identify distinct groups in the data\n",
        "  - *Dimensionality reduction*: Models that detect and identify lower-dimensional structure in higher-dimensional data\n",
        "  \n",
        "While the theoretical aspects of these methodologies are sumarized in the physical booklet, the following chapters will show how we can practically use machine learning tools."
      ]
    },
    {
      "cell_type": "markdown",
      "metadata": {
        "id": "-9EOmf_MExc3"
      },
      "source": [
        "< [Previous Page](https://colab.research.google.com/github/WahlerP/ns_cs_fundamentals/blob/main/06_08_Plotting_with_Pandas.ipynb#scrollTo=ycp7XNp6Gjzx) | [Home Page](https://wahlerp.github.io/) | [Next Page](https://colab.research.google.com/github/WahlerP/ns_cs_fundamentals/blob/main/07_02_MachineLearning_Scikit_Learnt.ipynb) >\n",
        "\n",
        "<a href=\"https://colab.research.google.com/github/WahlerP/ns_cs_fundamentals/blob/main/07_01_Machine_Learning.ipynb#scrollTo=-9EOmf_MExc3\"><img align=\"left\" src=\"https://colab.research.google.com/assets/colab-badge.svg\" alt=\"Open in Colab\" title=\"Open and Execute in Google Colaboratory\"></a>"
      ]
    }
  ]
}
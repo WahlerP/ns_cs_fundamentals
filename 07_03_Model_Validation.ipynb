{
  "nbformat": 4,
  "nbformat_minor": 0,
  "metadata": {
    "colab": {
      "name": "07-03-Model_Validation.ipynb",
      "provenance": [],
      "authorship_tag": "ABX9TyNsk4ZjlSbyerUIytJLkLVz",
      "include_colab_link": true
    },
    "kernelspec": {
      "name": "python3",
      "display_name": "Python 3"
    },
    "language_info": {
      "name": "python"
    }
  },
  "cells": [
    {
      "cell_type": "markdown",
      "metadata": {
        "id": "view-in-github",
        "colab_type": "text"
      },
      "source": [
        "<a href=\"https://colab.research.google.com/github/WahlerP/ns_cs_fundamentals/blob/main/07_03_Model_Validation.ipynb\" target=\"_parent\"><img src=\"https://colab.research.google.com/assets/colab-badge.svg\" alt=\"Open In Colab\"/></a>"
      ]
    },
    {
      "cell_type": "markdown",
      "metadata": {
        "id": "9_yF2Z0MYcrO"
      },
      "source": [
        "# Hyperparameters and Model Validation"
      ]
    },
    {
      "cell_type": "markdown",
      "metadata": {
        "collapsed": true,
        "deletable": true,
        "editable": true,
        "id": "gfgKAW4PYcrQ"
      },
      "source": [
        "In the previous section, we saw the basic recipe for applying a supervised machine learning model:\n",
        "\n",
        "1. Choose a class of model\n",
        "2. Choose model hyperparameters\n",
        "3. Fit the model to the training data\n",
        "4. Use the model to predict labels for new data\n",
        "\n",
        "The first two pieces of this—the choice of model and choice of hyperparameters—are perhaps the most important part of using these tools and techniques effectively.\n",
        "In order to make an informed choice, we need a way to *validate* that our model and our hyperparameters are a good fit to the data.\n",
        "While this may sound simple, there are some pitfalls that you must avoid to do this effectively."
      ]
    },
    {
      "cell_type": "markdown",
      "metadata": {
        "deletable": true,
        "editable": true,
        "id": "h3-ONAk7YcrR"
      },
      "source": [
        "## Model Validation\n",
        "\n",
        "In principle, model validation is very simple: after choosing a model and its hyperparameters, we can estimate how effective it is by applying it to some of the training data and comparing the prediction to the known value.\n",
        "\n",
        "The following sections first show a naive approach to model validation and why it\n",
        "fails, before exploring the use of holdout sets and cross-validation for more robust\n",
        "model evaluation."
      ]
    },
    {
      "cell_type": "markdown",
      "metadata": {
        "deletable": true,
        "editable": true,
        "id": "SwGclhPdYcrS"
      },
      "source": [
        "### Model validation the wrong way\n",
        "\n",
        "Let's demonstrate the naive approach to validation using the Iris data, which we saw in the previous section.\n",
        "We will start by loading the data:"
      ]
    },
    {
      "cell_type": "code",
      "metadata": {
        "collapsed": true,
        "deletable": true,
        "editable": true,
        "id": "ubbH_hw7YcrT"
      },
      "source": [
        "from sklearn.datasets import load_iris\n",
        "iris = load_iris()\n",
        "X = iris.data\n",
        "y = iris.target"
      ],
      "execution_count": null,
      "outputs": []
    },
    {
      "cell_type": "markdown",
      "metadata": {
        "deletable": true,
        "editable": true,
        "id": "_bYFEatxYcrT"
      },
      "source": [
        "Next we choose a model and hyperparameters. Here we'll use a *k*-neighbors classifier with ``n_neighbors=1``.\n",
        "This is a very simple and intuitive model that says \"the label of an unknown point is the same as the label of its closest training point:\""
      ]
    },
    {
      "cell_type": "code",
      "metadata": {
        "collapsed": true,
        "deletable": true,
        "editable": true,
        "id": "dqHv9wiWYcrU"
      },
      "source": [
        "from sklearn.neighbors import KNeighborsClassifier\n",
        "model = KNeighborsClassifier(n_neighbors=1)"
      ],
      "execution_count": null,
      "outputs": []
    },
    {
      "cell_type": "markdown",
      "metadata": {
        "deletable": true,
        "editable": true,
        "id": "YMi5AWUcYcrV"
      },
      "source": [
        "Then we train the model, and use it to predict labels for data we already know:"
      ]
    },
    {
      "cell_type": "code",
      "metadata": {
        "collapsed": true,
        "deletable": true,
        "editable": true,
        "id": "liIn6nRjYcrV"
      },
      "source": [
        "model.fit(X, y)\n",
        "y_model = model.predict(X)"
      ],
      "execution_count": null,
      "outputs": []
    },
    {
      "cell_type": "markdown",
      "metadata": {
        "deletable": true,
        "editable": true,
        "id": "2VnujZQuYcrW"
      },
      "source": [
        "Finally, we compute the fraction of correctly labeled points:"
      ]
    },
    {
      "cell_type": "code",
      "metadata": {
        "deletable": true,
        "editable": true,
        "id": "SkmDGvtTYcrW",
        "colab": {
          "base_uri": "https://localhost:8080/"
        },
        "outputId": "0238306e-3112-4818-eb06-f3ce9fd29f27"
      },
      "source": [
        "from sklearn.metrics import accuracy_score\n",
        "accuracy_score(y, y_model)"
      ],
      "execution_count": null,
      "outputs": [
        {
          "output_type": "execute_result",
          "data": {
            "text/plain": [
              "1.0"
            ]
          },
          "metadata": {
            "tags": []
          },
          "execution_count": 4
        }
      ]
    },
    {
      "cell_type": "markdown",
      "metadata": {
        "deletable": true,
        "editable": true,
        "id": "CS5L82S5YcrX"
      },
      "source": [
        "We see an accuracy score of 1.0, which indicates that 100% of points were correctly labeled by our model!\n",
        "But is this truly measuring the expected accuracy? Have we really come upon a model that we expect to be correct 100% of the time?\n",
        "\n",
        "As you may have gathered, the answer is no.\n",
        "In fact, this approach contains a fundamental flaw: *it trains and evaluates the model on the same data*.\n",
        "Furthermore, the nearest neighbor model is an *instance-based* estimator that simply stores the training data, and predicts labels by comparing new data to these stored points: except in contrived cases, it will get 100% accuracy *every time!*"
      ]
    },
    {
      "cell_type": "markdown",
      "metadata": {
        "deletable": true,
        "editable": true,
        "id": "Iy2_W2ywYcrX"
      },
      "source": [
        "### Model validation the right way: Holdout sets\n",
        "\n",
        "So what can be done?\n",
        "A better sense of a model's performance can be found using what's known as a *holdout set*: that is, we hold back some subset of the data from the training of the model, and then use this holdout set to check the model performance.\n",
        "This splitting can be done using the ``train_test_split`` utility in Scikit-Learn:"
      ]
    },
    {
      "cell_type": "code",
      "metadata": {
        "deletable": true,
        "editable": true,
        "id": "dLA0L5_uYcrY",
        "colab": {
          "base_uri": "https://localhost:8080/"
        },
        "outputId": "ee07cebc-4514-4848-8707-7217da21280d"
      },
      "source": [
        "from sklearn.model_selection import train_test_split\n",
        "# split the data with 50% in each set\n",
        "X1, X2, y1, y2 = train_test_split(X, y, random_state=0,\n",
        "                                  train_size=0.5)\n",
        "\n",
        "# fit the model on one set of data\n",
        "model.fit(X1, y1)\n",
        "\n",
        "# evaluate the model on the second set of data\n",
        "y2_model = model.predict(X2)\n",
        "accuracy_score(y2, y2_model)"
      ],
      "execution_count": null,
      "outputs": [
        {
          "output_type": "execute_result",
          "data": {
            "text/plain": [
              "0.9066666666666666"
            ]
          },
          "metadata": {
            "tags": []
          },
          "execution_count": 6
        }
      ]
    },
    {
      "cell_type": "markdown",
      "metadata": {
        "deletable": true,
        "editable": true,
        "id": "JsRAK10WYcrZ"
      },
      "source": [
        "We see here a more reasonable result: the nearest-neighbor classifier is about 90% accurate on this hold-out set.\n",
        "The hold-out set is similar to unknown data, because the model has not \"seen\" it before."
      ]
    },
    {
      "cell_type": "markdown",
      "metadata": {
        "deletable": true,
        "editable": true,
        "id": "_TzZnghpYcrZ"
      },
      "source": [
        "### Model validation via cross-validation\n",
        "\n",
        "One disadvantage of using a holdout set for model validation is that we have lost a portion of our data to the model training.\n",
        "In the above case, half the dataset does not contribute to the training of the model!\n",
        "This is not optimal, and can cause problems – especially if the initial set of training data is small.\n",
        "\n",
        "One way to address this is to use *cross-validation*; that is, to do a sequence of fits where each subset of the data is used both as a training set and as a validation set.\n",
        "\n",
        "Here we do two validation trials, alternately using each half of the data as a holdout set.\n",
        "Using the split data from before, we could implement it like this:"
      ]
    },
    {
      "cell_type": "code",
      "metadata": {
        "deletable": true,
        "editable": true,
        "id": "HWpv6Ht_Ycra",
        "colab": {
          "base_uri": "https://localhost:8080/"
        },
        "outputId": "94b6e315-2af9-4a76-85f0-fcb7367aba81"
      },
      "source": [
        "y2_model = model.fit(X1, y1).predict(X2)\n",
        "y1_model = model.fit(X2, y2).predict(X1)\n",
        "accuracy_score(y1, y1_model), accuracy_score(y2, y2_model)"
      ],
      "execution_count": null,
      "outputs": [
        {
          "output_type": "execute_result",
          "data": {
            "text/plain": [
              "(0.96, 0.9066666666666666)"
            ]
          },
          "metadata": {
            "tags": []
          },
          "execution_count": 7
        }
      ]
    },
    {
      "cell_type": "markdown",
      "metadata": {
        "deletable": true,
        "editable": true,
        "id": "o6z609ZqYcra"
      },
      "source": [
        "What comes out are two accuracy scores, which we could combine (by, say, taking the mean) to get a better measure of the global model performance.\n",
        "This particular form of cross-validation is a *two-fold cross-validation*—that is, one in which we have split the data into two sets and used each in turn as a validation set.\n",
        "\n",
        "We could expand on this idea to use even more trials, and more folds in the data—for example using a five-fold cross-validation:\n",
        "\n",
        "\n",
        "Here we split the data into five groups, and use each of them in turn to evaluate the model fit on the other 4/5 of the data.\n",
        "This would be rather tedious to do by hand, and so we can use Scikit-Learn's ``cross_val_score`` convenience routine to do it succinctly:"
      ]
    },
    {
      "cell_type": "code",
      "metadata": {
        "deletable": true,
        "editable": true,
        "id": "1URM58MEYcrb",
        "colab": {
          "base_uri": "https://localhost:8080/"
        },
        "outputId": "57463ca8-f4bf-4aca-a6cb-661d72be27f4"
      },
      "source": [
        "from sklearn.model_selection import cross_val_score\n",
        "cross_val_score(model, X, y, cv=5)"
      ],
      "execution_count": null,
      "outputs": [
        {
          "output_type": "execute_result",
          "data": {
            "text/plain": [
              "array([0.96666667, 0.96666667, 0.93333333, 0.93333333, 1.        ])"
            ]
          },
          "metadata": {
            "tags": []
          },
          "execution_count": 8
        }
      ]
    },
    {
      "cell_type": "markdown",
      "metadata": {
        "deletable": true,
        "editable": true,
        "id": "TdAVaImyYcrc"
      },
      "source": [
        "Repeating the validation across different subsets of the data gives us an even better idea of the performance of the algorithm.\n",
        "\n",
        "Scikit-Learn implements a number of useful cross-validation schemes that are useful in particular situations; these are implemented via iterators in the ``model_selection`` module.\n",
        "For example, we might wish to go to the extreme case in which our number of folds is equal to the number of data points: that is, we train on all points but one in each trial.\n",
        "This type of cross-validation is known as *leave-one-out* cross validation, and can be used as follows:"
      ]
    },
    {
      "cell_type": "code",
      "metadata": {
        "deletable": true,
        "editable": true,
        "id": "gpe_4v9NYcrc",
        "colab": {
          "base_uri": "https://localhost:8080/"
        },
        "outputId": "2a130d85-80ef-4c91-ea94-293e2c3780a9"
      },
      "source": [
        "from sklearn.model_selection import LeaveOneOut\n",
        "scores = cross_val_score(model, X, y, cv=LeaveOneOut())\n",
        "scores"
      ],
      "execution_count": null,
      "outputs": [
        {
          "output_type": "execute_result",
          "data": {
            "text/plain": [
              "array([1., 1., 1., 1., 1., 1., 1., 1., 1., 1., 1., 1., 1., 1., 1., 1., 1.,\n",
              "       1., 1., 1., 1., 1., 1., 1., 1., 1., 1., 1., 1., 1., 1., 1., 1., 1.,\n",
              "       1., 1., 1., 1., 1., 1., 1., 1., 1., 1., 1., 1., 1., 1., 1., 1., 1.,\n",
              "       1., 1., 1., 1., 1., 1., 1., 1., 1., 1., 1., 1., 1., 1., 1., 1., 1.,\n",
              "       1., 1., 0., 1., 0., 1., 1., 1., 1., 1., 1., 1., 1., 1., 1., 0., 1.,\n",
              "       1., 1., 1., 1., 1., 1., 1., 1., 1., 1., 1., 1., 1., 1., 1., 1., 1.,\n",
              "       1., 1., 1., 1., 0., 1., 1., 1., 1., 1., 1., 1., 1., 1., 1., 1., 1.,\n",
              "       0., 1., 1., 1., 1., 1., 1., 1., 1., 1., 1., 1., 1., 1., 0., 1., 1.,\n",
              "       1., 1., 1., 1., 1., 1., 1., 1., 1., 1., 1., 1., 1., 1.])"
            ]
          },
          "metadata": {
            "tags": []
          },
          "execution_count": 11
        }
      ]
    },
    {
      "cell_type": "markdown",
      "metadata": {
        "deletable": true,
        "editable": true,
        "id": "SxU1TaNlYcrd"
      },
      "source": [
        "Because we have 150 samples, the leave one out cross-validation yields scores for 150 trials, and the score indicates either successful (1.0) or unsuccessful (0.0) prediction.\n",
        "Taking the mean of these gives an estimate of the error rate:"
      ]
    },
    {
      "cell_type": "code",
      "metadata": {
        "deletable": true,
        "editable": true,
        "id": "6wQ3jbErYcrd",
        "colab": {
          "base_uri": "https://localhost:8080/"
        },
        "outputId": "767021a0-0ed3-440c-89b5-c015b831a5f6"
      },
      "source": [
        "scores.mean()"
      ],
      "execution_count": null,
      "outputs": [
        {
          "output_type": "execute_result",
          "data": {
            "text/plain": [
              "0.96"
            ]
          },
          "metadata": {
            "tags": []
          },
          "execution_count": 12
        }
      ]
    },
    {
      "cell_type": "markdown",
      "metadata": {
        "deletable": true,
        "editable": true,
        "id": "OExdPobQYcre"
      },
      "source": [
        "Other cross-validation schemes can be used similarly.\n",
        "For a description of what is available in Scikit-Learn, use IPython to explore the ``sklearn.model_selection`` submodule, or take a look at Scikit-Learn's online [cross-validation documentation](http://scikit-learn.org/stable/modules/cross_validation.html)."
      ]
    },
    {
      "cell_type": "markdown",
      "metadata": {
        "deletable": true,
        "editable": true,
        "id": "wvH8or0TYcrq"
      },
      "source": [
        "## Validation in Practice: Grid Search\n",
        "\n",
        "Often finding the right hyperparameters is difficult. \n",
        "\n",
        "Scikit-Learn provides automated tools to do find those parameters using the grid search module.\n",
        "\n",
        "Grid Search automatically tests out a certain \"grid\" of parameters and returns those that result in the highest score. This is also called hyperparameter tuning."
      ]
    },
    {
      "cell_type": "code",
      "metadata": {
        "collapsed": true,
        "deletable": true,
        "editable": true,
        "id": "63oTCjvqYcrq"
      },
      "source": [
        "from sklearn.model_selection import GridSearchCV\n",
        "\n",
        "param_grid = {'polynomialfeatures__degree': np.arange(21),\n",
        "              'linearregression__fit_intercept': [True, False],\n",
        "              'linearregression__normalize': [True, False]}\n",
        "\n",
        "grid = GridSearchCV(PolynomialRegression(), param_grid, cv=7)"
      ],
      "execution_count": null,
      "outputs": []
    },
    {
      "cell_type": "markdown",
      "metadata": {
        "deletable": true,
        "editable": true,
        "id": "p2DgcyDiYcrq"
      },
      "source": [
        "Notice that like a normal estimator, this has not yet been applied to any data.\n",
        "Calling the ``fit()`` method will fit the model at each grid point, keeping track of the scores along the way:"
      ]
    },
    {
      "cell_type": "code",
      "metadata": {
        "collapsed": true,
        "deletable": true,
        "editable": true,
        "id": "IO7TqgI4Ycrr"
      },
      "source": [
        "grid.fit(X, y);"
      ],
      "execution_count": null,
      "outputs": []
    },
    {
      "cell_type": "markdown",
      "metadata": {
        "deletable": true,
        "editable": true,
        "id": "BCsQaQFMYcrr"
      },
      "source": [
        "Now that this is fit, we can ask for the best parameters as follows:"
      ]
    },
    {
      "cell_type": "code",
      "metadata": {
        "deletable": true,
        "editable": true,
        "id": "G6zaWHmWYcrr",
        "colab": {
          "base_uri": "https://localhost:8080/"
        },
        "outputId": "002ec774-8fcb-4bad-ade9-a3e8a9940039"
      },
      "source": [
        "grid.best_params_"
      ],
      "execution_count": null,
      "outputs": [
        {
          "output_type": "execute_result",
          "data": {
            "text/plain": [
              "{'linearregression__fit_intercept': False,\n",
              " 'linearregression__normalize': True,\n",
              " 'polynomialfeatures__degree': 4}"
            ]
          },
          "metadata": {
            "tags": []
          },
          "execution_count": 23
        }
      ]
    },
    {
      "cell_type": "markdown",
      "metadata": {
        "deletable": true,
        "editable": true,
        "id": "bjuNJnKdYcrs"
      },
      "source": [
        "The grid search provides many more options, including the ability to specify a custom scoring function, to parallelize the computations, to do randomized searches, and more.\n",
        "For information, refer to Scikit-Learn's [grid search documentation](http://Scikit-Learn.org/stable/modules/grid_search.html)."
      ]
    }
  ]
}